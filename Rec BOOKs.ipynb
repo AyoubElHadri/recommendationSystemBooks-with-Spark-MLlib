{
 "cells": [
  {
   "cell_type": "code",
   "execution_count": 1,
   "id": "mysterious-webmaster",
   "metadata": {},
   "outputs": [],
   "source": [
    "import pyspark as ps\n",
    "from pyspark.sql import SQLContext\n",
    "from pyspark.ml.evaluation import RegressionEvaluator\n",
    "from pyspark.ml.tuning import CrossValidator, ParamGridBuilder\n",
    "from pyspark.ml import Pipeline\n",
    "from pyspark.sql import Row\n",
    "from pyspark.ml.recommendation import ALS\n",
    "from pyspark.sql.functions import udf, col, when\n",
    "import numpy as np"
   ]
  },
  {
   "cell_type": "code",
   "execution_count": 2,
   "id": "further-genesis",
   "metadata": {},
   "outputs": [],
   "source": [
    "\n",
    "from IPython.display import Image\n",
    "from IPython.display import display\n",
    "\n",
    "\n",
    "spark = ps.sql.SparkSession.builder \\\n",
    "                .master(\"local\") \\\n",
    "                .appName(\"Book Rec\") \\\n",
    "                .getOrCreate()\n",
    "\n",
    "sc = spark.sparkContext\n",
    "sqlContext = SQLContext(sc)\n"
   ]
  },
  {
   "cell_type": "code",
   "execution_count": 3,
   "id": "driving-meeting",
   "metadata": {},
   "outputs": [
    {
     "name": "stdout",
     "output_type": "stream",
     "text": [
      "root\n",
      " |-- book_id: integer (nullable = true)\n",
      " |-- user_id: integer (nullable = true)\n",
      " |-- rating: integer (nullable = true)\n",
      "\n"
     ]
    }
   ],
   "source": [
    "ratings_df = spark.read.csv('Goodbooks-10k/ratings.csv', header=True, inferSchema=True)\n",
    "ratings_df.printSchema()"
   ]
  },
  {
   "cell_type": "code",
   "execution_count": 4,
   "id": "removed-galaxy",
   "metadata": {},
   "outputs": [
    {
     "name": "stdout",
     "output_type": "stream",
     "text": [
      "+-------+-------+------+\n",
      "|book_id|user_id|rating|\n",
      "+-------+-------+------+\n",
      "|      1|    314|     5|\n",
      "|      1|    439|     3|\n",
      "|      1|    588|     5|\n",
      "|      1|   1169|     4|\n",
      "|      1|   1185|     4|\n",
      "+-------+-------+------+\n",
      "only showing top 5 rows\n",
      "\n"
     ]
    }
   ],
   "source": [
    "ratings_df.show(5)"
   ]
  },
  {
   "cell_type": "code",
   "execution_count": 5,
   "id": "rolled-opera",
   "metadata": {},
   "outputs": [
    {
     "name": "stdout",
     "output_type": "stream",
     "text": [
      "root\n",
      " |-- id: integer (nullable = true)\n",
      " |-- book_id: integer (nullable = true)\n",
      " |-- best_book_id: integer (nullable = true)\n",
      " |-- work_id: integer (nullable = true)\n",
      " |-- books_count: integer (nullable = true)\n",
      " |-- isbn: string (nullable = true)\n",
      " |-- isbn13: double (nullable = true)\n",
      " |-- authors: string (nullable = true)\n",
      " |-- original_publication_year: double (nullable = true)\n",
      " |-- original_title: string (nullable = true)\n",
      " |-- title: string (nullable = true)\n",
      " |-- language_code: string (nullable = true)\n",
      " |-- average_rating: string (nullable = true)\n",
      " |-- ratings_count: string (nullable = true)\n",
      " |-- work_ratings_count: string (nullable = true)\n",
      " |-- work_text_reviews_count: string (nullable = true)\n",
      " |-- ratings_1: double (nullable = true)\n",
      " |-- ratings_2: integer (nullable = true)\n",
      " |-- ratings_3: integer (nullable = true)\n",
      " |-- ratings_4: integer (nullable = true)\n",
      " |-- ratings_5: integer (nullable = true)\n",
      " |-- image_url: string (nullable = true)\n",
      " |-- small_image_url: string (nullable = true)\n",
      "\n"
     ]
    }
   ],
   "source": [
    "books_df = spark.read.csv('Goodbooks-10k/books.csv', header=True, inferSchema=True)\n",
    "books_df.printSchema()"
   ]
  },
  {
   "cell_type": "code",
   "execution_count": 6,
   "id": "pending-brunswick",
   "metadata": {},
   "outputs": [
    {
     "name": "stdout",
     "output_type": "stream",
     "text": [
      "+---+-------+------------+-------+-----------+---------+----------------+--------------------+-------------------------+--------------------+--------------------+-------------+--------------+-------------+------------------+-----------------------+---------+---------+---------+---------+---------+--------------------+--------------------+\n",
      "| id|book_id|best_book_id|work_id|books_count|     isbn|          isbn13|             authors|original_publication_year|      original_title|               title|language_code|average_rating|ratings_count|work_ratings_count|work_text_reviews_count|ratings_1|ratings_2|ratings_3|ratings_4|ratings_5|           image_url|     small_image_url|\n",
      "+---+-------+------------+-------+-----------+---------+----------------+--------------------+-------------------------+--------------------+--------------------+-------------+--------------+-------------+------------------+-----------------------+---------+---------+---------+---------+---------+--------------------+--------------------+\n",
      "|  1|2767052|     2767052|2792775|        272|439023483|9.78043902348E12|     Suzanne Collins|                   2008.0|    The Hunger Games|The Hunger Games ...|          eng|          4.34|      4780653|           4942365|                 155254|  66715.0|   127936|   560092|  1481305|  2706317|https://images.gr...|https://images.gr...|\n",
      "|  2|      3|           3|4640799|        491|439554934|9.78043955493E12|J.K. Rowling, Mar...|                   1997.0|Harry Potter and ...|Harry Potter and ...|          eng|          4.44|      4602479|           4800065|                  75867|  75504.0|   101676|   455024|  1156318|  3011543|https://images.gr...|https://images.gr...|\n",
      "+---+-------+------------+-------+-----------+---------+----------------+--------------------+-------------------------+--------------------+--------------------+-------------+--------------+-------------+------------------+-----------------------+---------+---------+---------+---------+---------+--------------------+--------------------+\n",
      "only showing top 2 rows\n",
      "\n"
     ]
    }
   ],
   "source": [
    "books_df.show(2)"
   ]
  },
  {
   "cell_type": "code",
   "execution_count": 7,
   "id": "aboriginal-script",
   "metadata": {},
   "outputs": [],
   "source": [
    "training_df, validation_df = ratings_df.randomSplit([.8, .2])"
   ]
  },
  {
   "cell_type": "code",
   "execution_count": 8,
   "id": "virtual-check",
   "metadata": {},
   "outputs": [],
   "source": [
    "iterations = 10\n",
    "regularization_parameter = 0.1 #lambda\n",
    "rank = 4\n",
    "errors = []\n",
    "err = 0"
   ]
  },
  {
   "cell_type": "code",
   "execution_count": 36,
   "id": "enhanced-marine",
   "metadata": {},
   "outputs": [
    {
     "name": "stdout",
     "output_type": "stream",
     "text": [
      "Root Mean Square Error value = 0.8952427791886635\n",
      "Root Mean Square Error value = 0.89792841095617\n",
      "Root Mean Square Error value = 0.9047418660370171\n"
     ]
    }
   ],
   "source": [
    "for rank in range(4, 7):\n",
    "    als = ALS(maxIter=iterations, regParam=regularization_parameter,\n",
    "              rank=rank, userCol=\"user_id\", itemCol=\"book_id\", ratingCol = \"rating\")\n",
    "    model = als.fit(training_df)\n",
    "    predictions = model.transform(validation_df)\n",
    "    new_predictions = predictions.filter(col('prediction') != np.nan)\n",
    "    evaluator = RegressionEvaluator(metricName=\"rmse\", labelCol=\"rating\",\n",
    "                                    predictionCol=\"prediction\")\n",
    "    rmse = evaluator.evaluate(new_predictions)\n",
    "    print(\"Root Mean Square Error value = \" + str(rmse))\n"
   ]
  },
  {
   "cell_type": "code",
   "execution_count": 11,
   "id": "immediate-integer",
   "metadata": {},
   "outputs": [
    {
     "name": "stdout",
     "output_type": "stream",
     "text": [
      "Root Mean Square Error value = 0.9077230458318135\n"
     ]
    }
   ],
   "source": [
    "als = ALS(maxIter=iterations, regParam=regularization_parameter,\n",
    "          rank=7, userCol=\"user_id\", itemCol=\"book_id\", ratingCol = \"rating\")\n",
    "model = als.fit(training_df)\n",
    "predictions = model.transform(validation_df)\n",
    "new_predictions = predictions.filter(col('prediction') != np.nan)\n",
    "evaluator = RegressionEvaluator(metricName=\"rmse\", labelCol=\"rating\",\n",
    "                                predictionCol=\"prediction\")\n",
    "rmse = evaluator.evaluate(new_predictions)\n",
    "print(\"Root Mean Square Error value = \" + str(rmse))\n"
   ]
  },
  {
   "cell_type": "code",
   "execution_count": 12,
   "id": "biological-terrain",
   "metadata": {},
   "outputs": [
    {
     "name": "stdout",
     "output_type": "stream",
     "text": [
      "+-------+-------+------+----------+\n",
      "|book_id|user_id|rating|prediction|\n",
      "+-------+-------+------+----------+\n",
      "|    148|   9731|     3| 3.0708532|\n",
      "|    148|   3922|     3| 3.7186213|\n",
      "|    148|  12466|     4|  3.371048|\n",
      "|    148|  22164|     3| 3.2223485|\n",
      "|    148|   5461|     4| 3.6156464|\n",
      "|    148|  13407|     4| 3.9823918|\n",
      "|    148|  10111|     3| 3.5474524|\n",
      "|    148|  27934|     4| 3.1013389|\n",
      "|    148|   8510|     3|  3.286783|\n",
      "|    148|  11239|     2| 2.4927168|\n",
      "+-------+-------+------+----------+\n",
      "only showing top 10 rows\n",
      "\n"
     ]
    }
   ],
   "source": [
    "predictions = model.transform(validation_df)\n",
    "predictions.show( n = 10)"
   ]
  },
  {
   "cell_type": "code",
   "execution_count": 13,
   "id": "authentic-reply",
   "metadata": {},
   "outputs": [
    {
     "name": "stdout",
     "output_type": "stream",
     "text": [
      "+-------+----------+----------+\n",
      "|user_id|     title|prediction|\n",
      "+-------+----------+----------+\n",
      "|  19526|Lysistrata|  4.306162|\n",
      "|   6213|Lysistrata| 3.0298452|\n",
      "|  41963|Lysistrata| 4.0285654|\n",
      "|   3721|Lysistrata| 3.8255231|\n",
      "|  10136|Lysistrata| 3.7900023|\n",
      "+-------+----------+----------+\n",
      "only showing top 5 rows\n",
      "\n"
     ]
    }
   ],
   "source": [
    "predictions.join(books_df, \"book_id\").select(\"user_id\",\"title\",\"prediction\").show(5)"
   ]
  },
  {
   "cell_type": "code",
   "execution_count": 14,
   "id": "proud-pitch",
   "metadata": {},
   "outputs": [
    {
     "name": "stdout",
     "output_type": "stream",
     "text": [
      "+-------+--------------------+--------------------+----------+\n",
      "|user_id|               title|           image_url|prediction|\n",
      "+-------+--------------------+--------------------+----------+\n",
      "|  35982|Stranger in a Str...|https://images.gr...|  3.769382|\n",
      "|  35982|The Language Inst...|https://s.gr-asse...| 2.5349014|\n",
      "|  35982|Harry Potter and ...|https://images.gr...|  4.054604|\n",
      "|  35982|City of Glass (Th...|https://images.gr...| 4.0813217|\n",
      "|  35982|The Lord of the R...|https://s.gr-asse...| 3.8985984|\n",
      "+-------+--------------------+--------------------+----------+\n",
      "\n"
     ]
    }
   ],
   "source": [
    "for_one_user = predictions.filter(col(\"user_id\")==35982).join(books_df, \"book_id\")\n",
    ".select(\"user_id\",\"title\",\"image_url\", \"prediction\")\n",
    "for_one_user.show()"
   ]
  },
  {
   "cell_type": "code",
   "execution_count": 15,
   "id": "blessed-forge",
   "metadata": {},
   "outputs": [
    {
     "name": "stdout",
     "output_type": "stream",
     "text": [
      "Stranger in a Strange Land\n"
     ]
    },
    {
     "data": {
      "text/html": [
       "<img src=\"https://images.gr-assets.com/books/1156897088m/350.jpg\"/>"
      ],
      "text/plain": [
       "<IPython.core.display.Image object>"
      ]
     },
     "metadata": {},
     "output_type": "display_data"
    },
    {
     "name": "stdout",
     "output_type": "stream",
     "text": [
      "The Language Instinct: How the Mind Creates Language\n"
     ]
    },
    {
     "data": {
      "text/html": [
       "<img src=\"https://s.gr-assets.com/assets/nophoto/book/111x148-bcc042a9c91a29c1d680899eff700a03.png\"/>"
      ],
      "text/plain": [
       "<IPython.core.display.Image object>"
      ]
     },
     "metadata": {},
     "output_type": "display_data"
    },
    {
     "name": "stdout",
     "output_type": "stream",
     "text": [
      "Harry Potter and the Goblet of Fire (Harry Potter, #4)\n"
     ]
    },
    {
     "data": {
      "text/html": [
       "<img src=\"https://images.gr-assets.com/books/1361482611m/6.jpg\"/>"
      ],
      "text/plain": [
       "<IPython.core.display.Image object>"
      ]
     },
     "metadata": {},
     "output_type": "display_data"
    },
    {
     "name": "stdout",
     "output_type": "stream",
     "text": [
      "City of Glass (The New York Trilogy, #1)\n"
     ]
    },
    {
     "data": {
      "text/html": [
       "<img src=\"https://images.gr-assets.com/books/1309986722m/432.jpg\"/>"
      ],
      "text/plain": [
       "<IPython.core.display.Image object>"
      ]
     },
     "metadata": {},
     "output_type": "display_data"
    },
    {
     "name": "stdout",
     "output_type": "stream",
     "text": [
      "The Lord of the Rings: Weapons and Warfare\n"
     ]
    },
    {
     "data": {
      "text/html": [
       "<img src=\"https://s.gr-assets.com/assets/nophoto/book/111x148-bcc042a9c91a29c1d680899eff700a03.png\"/>"
      ],
      "text/plain": [
       "<IPython.core.display.Image object>"
      ]
     },
     "metadata": {},
     "output_type": "display_data"
    }
   ],
   "source": [
    "for book in for_one_user.take(10):\n",
    "    print(book.title)\n",
    "    display(Image(url=book.image_url))"
   ]
  },
  {
   "cell_type": "code",
   "execution_count": 16,
   "id": "revolutionary-nightmare",
   "metadata": {},
   "outputs": [],
   "source": [
    "userRecomments = model.recommendForAllUsers(5)\n",
    "bookRecomments = model.recommendForAllItems(5)\n"
   ]
  },
  {
   "cell_type": "code",
   "execution_count": 17,
   "id": "graphic-porter",
   "metadata": {},
   "outputs": [
    {
     "name": "stdout",
     "output_type": "stream",
     "text": [
      "+-------+------------------------------+\n",
      "|user_id|book_id                       |\n",
      "+-------+------------------------------+\n",
      "|148    |[5207, 6920, 3628, 4483, 7593]|\n",
      "|463    |[4067, 7767, 6296, 7364, 4881]|\n",
      "|471    |[9157, 4344, 4963, 7327, 4403]|\n",
      "|496    |[971, 2080, 9578, 9024, 1109] |\n",
      "|833    |[4154, 1338, 4868, 6457, 5376]|\n",
      "|1088   |[2209, 3628, 5880, 1788, 7254]|\n",
      "|1238   |[8455, 4336, 5880, 2209, 3628]|\n",
      "|1342   |[7275, 4706, 7789, 6971, 3722]|\n",
      "|1580   |[4609, 4653, 709, 3628, 8522] |\n",
      "|1591   |[4154, 8249, 6457, 5376, 4868]|\n",
      "+-------+------------------------------+\n",
      "only showing top 10 rows\n",
      "\n"
     ]
    }
   ],
   "source": [
    "userRecomments.select(\"user_id\",\"recommendations.book_id\").show(10, False)"
   ]
  },
  {
   "cell_type": "code",
   "execution_count": 20,
   "id": "psychological-serial",
   "metadata": {},
   "outputs": [
    {
     "name": "stdout",
     "output_type": "stream",
     "text": [
      "+-------+-----------------------------------+\n",
      "|book_id|user_id                            |\n",
      "+-------+-----------------------------------+\n",
      "|1580   |[39869, 27969, 28956, 11548, 41388]|\n",
      "|4900   |[52593, 12353, 33923, 11296, 15787]|\n",
      "|5300   |[45674, 3054, 23124, 15449, 52593] |\n",
      "|6620   |[10485, 1560, 21212, 27079, 30446] |\n",
      "|7240   |[48324, 27969, 39869, 41388, 26346]|\n",
      "|7340   |[30446, 21212, 25191, 39357, 10485]|\n",
      "|7880   |[33211, 10664, 8753, 33923, 34995] |\n",
      "|9900   |[52593, 33211, 15449, 17428, 33923]|\n",
      "|471    |[25191, 21212, 30446, 51193, 28800]|\n",
      "|1591   |[11548, 10485, 21212, 30446, 39357]|\n",
      "+-------+-----------------------------------+\n",
      "only showing top 10 rows\n",
      "\n"
     ]
    }
   ],
   "source": [
    "bookRecomments.select(\"book_id\",\"recommendations.user_id\").show(10, False)"
   ]
  },
  {
   "cell_type": "code",
   "execution_count": 22,
   "id": "geographic-syntax",
   "metadata": {},
   "outputs": [
    {
     "name": "stdout",
     "output_type": "stream",
     "text": [
      "+-------+\n",
      "|user_id|\n",
      "+-------+\n",
      "|  32592|\n",
      "|  19984|\n",
      "|  35982|\n",
      "+-------+\n",
      "\n"
     ]
    }
   ],
   "source": [
    "users = ratings_df.select(\"user_id\").distinct().limit(3)\n",
    "users.show()"
   ]
  },
  {
   "cell_type": "code",
   "execution_count": 24,
   "id": "spoken-concern",
   "metadata": {},
   "outputs": [
    {
     "name": "stdout",
     "output_type": "stream",
     "text": [
      "+-------+--------------------+\n",
      "|user_id|     recommendations|\n",
      "+-------+--------------------+\n",
      "|  32592|[{862, 4.74918}, ...|\n",
      "|  35982|[{4609, 4.9298873...|\n",
      "|  19984|[{862, 6.1798744}...|\n",
      "+-------+--------------------+\n",
      "\n"
     ]
    }
   ],
   "source": [
    "userSubsetRecs = model.recommendForUserSubset(users, 10)\n",
    "userSubsetRecs.show()"
   ]
  },
  {
   "cell_type": "code",
   "execution_count": 25,
   "id": "acoustic-sector",
   "metadata": {},
   "outputs": [
    {
     "name": "stdout",
     "output_type": "stream",
     "text": [
      "+-------+-----------------------------------------------------------+\n",
      "|user_id|book_id                                                    |\n",
      "+-------+-----------------------------------------------------------+\n",
      "|32592  |[862, 5207, 6590, 5344, 3191, 267, 1342, 7305, 8109, 4483] |\n",
      "|35982  |[4609, 4653, 3830, 8522, 3628, 2731, 4638, 125, 5146, 7710]|\n",
      "|19984  |[862, 8109, 5207, 6920, 6590, 3628, 8187, 5580, 7401, 4483]|\n",
      "+-------+-----------------------------------------------------------+\n",
      "\n"
     ]
    }
   ],
   "source": [
    "userSubsetRecs.select(\"user_id\",\"recommendations.book_id\").show(10, False)"
   ]
  },
  {
   "cell_type": "code",
   "execution_count": 26,
   "id": "finnish-wagner",
   "metadata": {},
   "outputs": [
    {
     "name": "stdout",
     "output_type": "stream",
     "text": [
      "+-------+\n",
      "|book_id|\n",
      "+-------+\n",
      "|    148|\n",
      "|    463|\n",
      "|    471|\n",
      "+-------+\n",
      "\n"
     ]
    }
   ],
   "source": [
    "\n",
    "movies = ratings_df.select(\"book_id\").distinct().limit(3)\n",
    "movies.show()"
   ]
  },
  {
   "cell_type": "code",
   "execution_count": 28,
   "id": "detailed-spanking",
   "metadata": {},
   "outputs": [
    {
     "name": "stdout",
     "output_type": "stream",
     "text": [
      "+-------+----------------------------------------------------------------------+\n",
      "|book_id|user_id                                                               |\n",
      "+-------+----------------------------------------------------------------------+\n",
      "|471    |[25191, 21212, 30446, 51193, 28800, 32426, 11548, 50138, 32996, 32967]|\n",
      "|463    |[25191, 14637, 40439, 12759, 14870, 50062, 38866, 16605, 21576, 44952]|\n",
      "|148    |[11548, 39357, 25191, 30446, 21212, 38866, 38099, 17128, 10485, 22551]|\n",
      "+-------+----------------------------------------------------------------------+\n",
      "\n"
     ]
    }
   ],
   "source": [
    "movieSubSetRecs = model.recommendForItemSubset(movies, 10)\n",
    "movieSubSetRecs.select(\"book_id\",\"recommendations.user_id\").show(10, False)"
   ]
  },
  {
   "cell_type": "code",
   "execution_count": 30,
   "id": "legislative-modem",
   "metadata": {},
   "outputs": [],
   "source": [
    "book_ids = [860,1524,2914,5297,7397,8802,9506]\n",
    "user_ids = [4917,4917,4917,4917,4917,4917,4917]\n",
    "new_user_preds = sqlContext.createDataFrame(zip(book_ids, user_ids),\n",
    "                                            schema=['book_id', 'user_id'])"
   ]
  },
  {
   "cell_type": "code",
   "execution_count": 31,
   "id": "naughty-yield",
   "metadata": {},
   "outputs": [
    {
     "name": "stdout",
     "output_type": "stream",
     "text": [
      "+-------+-------+\n",
      "|book_id|user_id|\n",
      "+-------+-------+\n",
      "|    860|   4917|\n",
      "|   1524|   4917|\n",
      "|   2914|   4917|\n",
      "|   5297|   4917|\n",
      "|   7397|   4917|\n",
      "|   8802|   4917|\n",
      "|   9506|   4917|\n",
      "+-------+-------+\n",
      "\n"
     ]
    }
   ],
   "source": [
    "new_user_preds.show()"
   ]
  },
  {
   "cell_type": "code",
   "execution_count": 32,
   "id": "grave-society",
   "metadata": {},
   "outputs": [
    {
     "name": "stdout",
     "output_type": "stream",
     "text": [
      "+-------+-------+----------+\n",
      "|book_id|user_id|prediction|\n",
      "+-------+-------+----------+\n",
      "|   2914|   4917| 3.3407302|\n",
      "|    860|   4917| 3.3595057|\n",
      "|   7397|   4917| 3.1630487|\n",
      "|   8802|   4917| 3.3526936|\n",
      "|   9506|   4917| 3.3080804|\n",
      "|   1524|   4917| 3.2027965|\n",
      "|   5297|   4917| 3.3230429|\n",
      "+-------+-------+----------+\n",
      "\n"
     ]
    }
   ],
   "source": [
    "new_predictions = model.transform(new_user_preds)\n",
    "new_predictions.show()"
   ]
  },
  {
   "cell_type": "code",
   "execution_count": null,
   "id": "sought-packaging",
   "metadata": {},
   "outputs": [],
   "source": []
  }
 ],
 "metadata": {
  "kernelspec": {
   "display_name": "Python 3",
   "language": "python",
   "name": "python3"
  },
  "language_info": {
   "codemirror_mode": {
    "name": "ipython",
    "version": 3
   },
   "file_extension": ".py",
   "mimetype": "text/x-python",
   "name": "python",
   "nbconvert_exporter": "python",
   "pygments_lexer": "ipython3",
   "version": "3.8.5"
  }
 },
 "nbformat": 4,
 "nbformat_minor": 5
}
